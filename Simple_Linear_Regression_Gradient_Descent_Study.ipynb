{
  "nbformat": 4,
  "nbformat_minor": 0,
  "metadata": {
    "colab": {
      "name": "Simple_Linear_Regression_Gradient_Descent_Study.ipynb",
      "provenance": [],
      "collapsed_sections": [],
      "authorship_tag": "ABX9TyNvaHl2lDTTfcKlyQGrKUtu",
      "include_colab_link": true
    },
    "kernelspec": {
      "name": "python3",
      "display_name": "Python 3"
    }
  },
  "cells": [
    {
      "cell_type": "markdown",
      "metadata": {
        "id": "view-in-github",
        "colab_type": "text"
      },
      "source": [
        "<a href=\"https://colab.research.google.com/github/Bryce-Davidson/Machine_Learning/blob/master/Simple_Linear_Regression_Gradient_Descent_Study.ipynb\" target=\"_parent\"><img src=\"https://colab.research.google.com/assets/colab-badge.svg\" alt=\"Open In Colab\"/></a>"
      ]
    },
    {
      "cell_type": "markdown",
      "metadata": {
        "id": "pnK3K_--nF-q",
        "colab_type": "text"
      },
      "source": [
        "# What is gradient descent?\n",
        "\n",
        "Gradient descent was introduced to me as a way to optimize the paramaters to an equation for a line in order to fit a line to linear data. I have come later to realize that gradient descent is a way to optimize *any* parameter within *any* equation while attempting to use that equation to model data.\n",
        "\n",
        "This problem comes up all over machine learning, including neural networks and stands as one of the most important algorithms in ML today.\n",
        "\n",
        "Props to this video made by StatQuest!\n",
        "\n",
        "[Gradient Descent, Step-by-Step](https://www.youtube.com/watch?v=sDv4f4s2SB8&t=789s)\n",
        "\n",
        "This video allowed me to see how it is we are able to fit functions to data no matter how many paramaters those functions have and no matter what the function is.\n",
        "\n",
        "A function as simple as\n",
        "\n",
        "$\\hat{y} = mx+b$\n",
        "\n",
        "Will serve as a great example but is not representative of the possibilties of this algorithm.\n",
        "\n",
        "This function has paramters $m$ and $b$ which we are able to ***estimate*** with respect to some linear data by using gradient descent.\n",
        "\n"
      ]
    },
    {
      "cell_type": "code",
      "metadata": {
        "id": "1kk-tHJcnA3t",
        "colab_type": "code",
        "colab": {}
      },
      "source": [
        "import numpy as np\n",
        "import matplotlib.pyplot as plt\n",
        "%matplotlib inline"
      ],
      "execution_count": null,
      "outputs": []
    },
    {
      "cell_type": "markdown",
      "metadata": {
        "id": "eW3Xi3pppRWP",
        "colab_type": "text"
      },
      "source": [
        "Let's try and do this using some dummy linear data I will generate. This linear data has only one feature $X$ and one output $y$."
      ]
    },
    {
      "cell_type": "code",
      "metadata": {
        "id": "-eIMuO-tpaBr",
        "colab_type": "code",
        "colab": {
          "base_uri": "https://localhost:8080/",
          "height": 51
        },
        "outputId": "192c5696-6104-473c-83e3-e5914db87f1c"
      },
      "source": [
        "data = np.array([\n",
        "                 [1,8],\n",
        "                 [2,14],\n",
        "                 [3,20]\n",
        "                 ])\n",
        "X = data[:, 0]\n",
        "y = data[:, 1]\n",
        "print(\" X:\", X, \"\\n\", \"y:\", y)"
      ],
      "execution_count": null,
      "outputs": [
        {
          "output_type": "stream",
          "text": [
            " X: [1 2 3] \n",
            " y: [ 8 14 20]\n"
          ],
          "name": "stdout"
        }
      ]
    },
    {
      "cell_type": "markdown",
      "metadata": {
        "id": "uWaXx3PWrEzE",
        "colab_type": "text"
      },
      "source": [
        "As you can see here the function that this data can be modeled by:\n",
        "\n",
        "$y=6x_i+2$\n",
        "\n",
        "Where $i$ is the index of the $i$th element in the X vector.\n",
        "\n",
        "This is the equation we will estimate for by using the general equation for a line, and solving for $\\theta_0$ and $\\theta_1$\n",
        "\n",
        "\n",
        "$y=\\theta_0 x_i + \\theta_1$\n",
        "\n",
        "\n",
        "Where $\\theta_0$ and $\\theta_1$ are both paramaters we will estimate using gradient descent."
      ]
    },
    {
      "cell_type": "code",
      "metadata": {
        "id": "AGJ0caN7r8VG",
        "colab_type": "code",
        "colab": {
          "base_uri": "https://localhost:8080/",
          "height": 295
        },
        "outputId": "c89a4bd8-5cd8-44dc-a2f0-93589f9195bf"
      },
      "source": [
        "plt.plot(X, y, \"bo-\")\n",
        "plt.legend([\"m=6, b=2\"])\n",
        "plt.title(\"X vs. y data\")\n",
        "plt.xlabel(f\"X: {X}\")\n",
        "plt.ylabel(f\"y: {y}\");"
      ],
      "execution_count": null,
      "outputs": [
        {
          "output_type": "display_data",
          "data": {
            "image/png": "[encoded data removed]",
            "text/plain": [
              "<Figure size 432x288 with 1 Axes>"
            ]
          },
          "metadata": {
            "tags": [],
            "needs_background": "light"
          }
        }
      ]
    },
    {
      "cell_type": "markdown",
      "metadata": {
        "id": "4wTul9OescJ7",
        "colab_type": "text"
      },
      "source": [
        "Let's first attempt to only estimate one of the paramaters, say $\\theta_1$ by allowing the paramater $\\theta_0$ to equal $6$ (it's true value)\n",
        "\n",
        "The First step is too literally just take a guess for $\\theta_1$\n",
        "\n",
        "Let's guess $\\theta_1$ to be 8"
      ]
    },
    {
      "cell_type": "code",
      "metadata": {
        "id": "yApIin08s72k",
        "colab_type": "code",
        "colab": {}
      },
      "source": [
        "y_hat = 6*X + 8 "
      ],
      "execution_count": null,
      "outputs": []
    },
    {
      "cell_type": "markdown",
      "metadata": {
        "id": "A_63k9ZBtxtg",
        "colab_type": "text"
      },
      "source": [
        "We can now plot both the real values for X against it's real values for y and the real values for X against the guessed values for y.   "
      ]
    },
    {
      "cell_type": "code",
      "metadata": {
        "id": "HMcThVCLt592",
        "colab_type": "code",
        "colab": {
          "base_uri": "https://localhost:8080/",
          "height": 265
        },
        "outputId": "1dc38e6d-ebb6-41d2-8d30-7f2737f41b6b"
      },
      "source": [
        "plt.plot(X, y, \"bo\")\n",
        "plt.plot(X, y_hat, \"ro-\")\n",
        "plt.legend([\"Real (x,y)\", \"Guessed (x,y)\"]);"
      ],
      "execution_count": null,
      "outputs": [
        {
          "output_type": "display_data",
          "data": {
            "image/png": "[encoded data removed]",
            "text/plain": [
              "<Figure size 432x288 with 1 Axes>"
            ]
          },
          "metadata": {
            "tags": [],
            "needs_background": "light"
          }
        }
      ]
    },
    {
      "cell_type": "markdown",
      "metadata": {
        "id": "GuZUFSJmuXPu",
        "colab_type": "text"
      },
      "source": [
        "As you can see *visually* that the guess for $\\theta_1$ is much to high, but we need a computational way to say that this guess for a line much to far away from the data we are trying to model.\n",
        "\n",
        "Enter:\n",
        "Mean Squared Error\n",
        "\n",
        "$\\frac{1}{n}\\sum\\limits_{i=1}^{n} (\\hat{y_i}-y_i)^2$\n",
        "\n",
        "What this function does is give us the ability to ask:\n",
        "How far off from the original data are we with each x value in our $X$ data from $y$ when we use the function we just guessed **for each** individual point in our data?\n",
        "\n",
        "This function is the sum of the squared distances between the real $y$ data and the guessed data $\\hat{y}$, or to put it visually... the squared values of these dotted lines, all summed together and averaged."
      ]
    },
    {
      "cell_type": "code",
      "metadata": {
        "id": "bjgNwHXmwEeJ",
        "colab_type": "code",
        "colab": {
          "base_uri": "https://localhost:8080/",
          "height": 265
        },
        "outputId": "007e33b7-a492-4750-c717-3c08cd30491c"
      },
      "source": [
        "fig, ax = plt.subplots()\n",
        "ax.plot(X,y, \"bo\")\n",
        "ax.plot(X,y_hat, \"ro-\")\n",
        "ax.vlines(X,y,y_hat, linestyles=\"dashed\")\n",
        "ax.legend([\"Real\", \"Guessed\", \"Residual\"]);"
      ],
      "execution_count": null,
      "outputs": [
        {
          "output_type": "display_data",
          "data": {
            "image/png": "[encoded data removed]",
            "text/plain": [
              "<Figure size 432x288 with 1 Axes>"
            ]
          },
          "metadata": {
            "tags": [],
            "needs_background": "light"
          }
        }
      ]
    },
    {
      "cell_type": "markdown",
      "metadata": {
        "id": "jDCI6J0sbnH9",
        "colab_type": "text"
      },
      "source": [
        "Let's quickly write some functions to automate the process of guessing the paramaters in our function $\\hat{y}$, computing the each of the guesses for $\\hat{y}_i$ in terms of $x_i$, and computing the results of the MSE with respect to this guessed function.\n",
        "\n",
        "Let's start by creating a function that generates the guessed $\\hat{y}$ values by talking in a paramater $\\theta_1$ and fixing the paramater $\\theta_0$ to 6 like before.\n"
      ]
    },
    {
      "cell_type": "code",
      "metadata": {
        "id": "60DKmn2RXfKz",
        "colab_type": "code",
        "colab": {}
      },
      "source": [
        "def y_hat(X, theta_0=6, theta_1=0):\n",
        "  return theta_0*X + theta_1"
      ],
      "execution_count": null,
      "outputs": []
    },
    {
      "cell_type": "markdown",
      "metadata": {
        "id": "ooZdwHpmzOhz",
        "colab_type": "text"
      },
      "source": [
        "Next we can write a function to compute the MSE by using the computed guesses from our function $\\hat{y}(x_i)$."
      ]
    },
    {
      "cell_type": "code",
      "metadata": {
        "id": "pCsy2IZ1yjp2",
        "colab_type": "code",
        "colab": {
          "base_uri": "https://localhost:8080/",
          "height": 34
        },
        "outputId": "82e5a6c2-1d15-4ae0-82a1-e31b34c8206f"
      },
      "source": [
        "def MSE(y, y_hat):\n",
        "  return np.sum((y_hat-y)**2, axis=0) / len(y)\n",
        "# Test\n",
        "MSE(y, y_hat(X, theta_1=8))"
      ],
      "execution_count": null,
      "outputs": [
        {
          "output_type": "execute_result",
          "data": {
            "text/plain": [
              "36.0"
            ]
          },
          "metadata": {
            "tags": []
          },
          "execution_count": 8
        }
      ]
    },
    {
      "cell_type": "markdown",
      "metadata": {
        "id": "lmesYWIfXRSy",
        "colab_type": "text"
      },
      "source": [
        "If you notice, what we are doing is making **the function we will be trying to minimize** (MSE), **a function** of the paramaters we are trying to *estimate.* (This will be shown in the MSE derivation with respect to our linear function below) We can do this with any function $\\hat{y}$ that has paramaters $\\{\\theta_0, \\theta_1...\\theta_n \\}$\n",
        "\n",
        "Let's derive this mathematically.\n",
        "\n",
        "---\n",
        "$\\text{MSE}=\\frac{1}{n}\\sum\\limits_{i=1}^{n} (\\hat{y_i}-y_i))^2 $\n",
        "\n",
        "Where $y_i$ is the $i$th element in the $y$ data and $\\hat{y_i}$ is the output value of the function we have guessed for the $i$th element of the $X$ data. $x_i$\n",
        "\n",
        "$\\because \\hat{y_i} = \\theta_0 x_i + \\theta_1$\n",
        "\n",
        "$=\\frac{1}{n}\\sum\\limits_{i=1}^{n} ((\\theta_0 x_i + \\theta_1)-y_i)^2$\n",
        "\n",
        "$\\because\\theta_0 =6$\n",
        "\n",
        "$=\\frac{1}{n}\\sum\\limits_{i=1}^{n} ((6 x_i + \\theta_1)-y_i)^2$\n",
        "\n",
        "As we can see, the MSE is now a function of $\\theta_1$ This means, as we change $\\theta_1$ the MSE will change as well.\n",
        "\n",
        "The goal then, as expressed above is to minimize the MSE by changing $\\theta_1$.\n",
        "\n",
        "Instead of guessing just one value for $\\theta_1$ let's guess a bunch of them within a range and see what happens to the (MSE)."
      ]
    },
    {
      "cell_type": "code",
      "metadata": {
        "id": "1cOzx0kf0UDm",
        "colab_type": "code",
        "colab": {
          "base_uri": "https://localhost:8080/",
          "height": 296
        },
        "outputId": "f32f36d6-f2f8-46a3-b6ef-5a98deaf0398"
      },
      "source": [
        "KNOWN_LOCAL_OPTIMA_FOR_THETA_1 = 2\n",
        "\n",
        "# To hold the computed MSE with respect to theta_1\n",
        "loss = []\n",
        "# The theta_1 values we used to compute the MSE\n",
        "theta_1 = []\n",
        "for i in np.linspace(-10,10,20):\n",
        "  # Our guess for theta_1\n",
        "  theta_1.append(i)\n",
        "  # The corresonding MSE as a function of theta_1\n",
        "  loss.append(MSE(y, y_hat(X, theta_1=i)))\n",
        "\n",
        "fig, ax = plt.subplots()\n",
        "\n",
        "ax.plot(theta_1, loss)\n",
        "ax.plot(KNOWN_LOCAL_OPTIMA_FOR_THETA_1, 0, \"ro\");\n",
        "ax.set_ylabel(\"MSE\")\n",
        "ax.set_xlabel(\"theta_1\")\n",
        "\n",
        "# ax.yaxis.label.set_color('white')\n",
        "# ax.xaxis.label.set_color('white')\n",
        "# ax.title.set_color(\"white\")\n",
        "\n",
        "ax.set_title(\"MSE vs. Theta_1\")\n",
        "ax.legend([\"MSE\", \"Local Minimum\"]);"
      ],
      "execution_count": null,
      "outputs": [
        {
          "output_type": "display_data",
          "data": {
            "image/png": "[encoded data removed]",
            "text/plain": [
              "<Figure size 432x288 with 1 Axes>"
            ]
          },
          "metadata": {
            "tags": [],
            "needs_background": "light"
          }
        }
      ]
    },
    {
      "cell_type": "markdown",
      "metadata": {
        "id": "7V1WgOE3UJqk",
        "colab_type": "text"
      },
      "source": [
        "What you will notice above is as we change $\\theta_1$ the MSE moves along with it. This is because as we move our line up and down with $\\theta_1$, the distances between the true results and the guessed results will change, therfore changing the MSE.\n",
        "\n",
        "We would like a much better way to search for the paramater value $\\theta_1$ that minimizes the MSE rather than to just guess all of them within a range and see what comes out.\n",
        "\n",
        "This is where Gradient Descent comes in.\n",
        "\n",
        "Gradient Descent gives us the ability to first pick a random value for $\\theta_1$ **and then determine** which way we need to push $\\theta_1$ in order for the MSE to be smaller. A.K.A to minimize the distance between our function and the data.\n",
        "\n",
        "More generally what Gradient Descent really allows us to do is to be able to fit any function to a set of data by estimating the paramaters of that function to minimize *a loss function* like the MSE. \n",
        "\n",
        "We do this by making the **MSE** *a function of the* **paramaters** of the function we are trying to estimate. We then compute the partial derivatives of the **MSE** *with respect* to each of those paramaters in order to know if we are heading towards a local minimum or not. \n",
        "\n",
        "In this example the local minimum of the MSE function with respect to $\\theta_0$ and $\\theta_1$ is in effect, the true function of the data."
      ]
    },
    {
      "cell_type": "markdown",
      "metadata": {
        "id": "Cs1ds1EsFjHp",
        "colab_type": "text"
      },
      "source": [
        "In order to figure out the partial derivatives of the MSE with respect to each of the paramaters $\\theta_1, \\theta_0$ we will compute them by hand in the steps below.\n",
        "\n",
        "### $$ MSE=\\frac{1}{n}\\sum\\limits_{i=1}^{n} (\\hat{y_i}-y_i)^2 = \\text{Loss Function} = L$$\n",
        "\n",
        "\n",
        "\n",
        "### $$L(\\theta_0, \\theta_1) =\\frac{1}{n}\\sum\\limits_{i=1}^{n} (\\theta_0 x_i + \\theta_1-y_i)^2 $$\n",
        "\n",
        "Let's compute the partial derivative with resepct to $\\theta_0$ first. Since in this example we know that the number of instances of $x_i$ is $\\color{red}{3}$, we can expand this sum out to make things a little easier to visualize as well as make thinking about this porcess with larger and larger values for $n$ much easier.\n",
        "\n",
        "#### $$L(\\theta_0, \\theta_1) =\\frac{1}{n}\\sum\\limits_{i=1}^{n} ((\\theta_0 x_i + \\theta_1)-y_i)^2 $$\n",
        "\n",
        "</br>\n",
        "\n",
        "$$\\text{letting } n=3$$\n",
        "\n",
        "#### $$ L(\\theta_0, \\theta_1) =\\frac{1}{\\color{red}{3}}\\sum\\limits_{i=1}^{\\color{red}{3}} ((\\theta_0 x_i + \\theta_1)-y_i)^2 $$ \n",
        "\n",
        "</br>\n",
        "\n",
        "$$\\text{Expanding the summation}$$\n",
        "\n",
        "#### $$L(\\theta_0, \\theta_1) =\\frac{1}{3} \\big[ ((\\theta_0 x_{\\color{red}{1}} + \\theta_1)-y_{\\color{red}{1}})^2 + ((\\theta_0 x_{\\color{red}{2}} + \\theta_1)-y_{\\color{red}{2}})^2 + ((\\theta_0 x_{\\color{red}{3}} + \\theta_1)-y_{\\color{red}{3}})^2 \\big]$$\n",
        "\n",
        "</br>\n",
        "\n",
        "$$\\text{Removing inner brackets}$$\n",
        "\n",
        "#### $$L(\\theta_0, \\theta_1) =\\frac{1}{3} \\big[ (\\theta_0 x_1 + \\theta_1-y_1)^2 + (\\theta_0 x_2 + \\theta_1-y_2)^2 + (\\theta_0 x_3 + \\theta_1-y_3)^2 \\big]$$\n",
        "\n",
        "</br>\n",
        "\n",
        "At this point the familiarity of how to take the partial derivative of a sum of functions should make its self aparent, and it's only a matter of taking the partial derivatives for each of these functions with respect to $\\theta_0$ and adding them together, that is: \n",
        "\n",
        "</br>\n",
        "\n",
        "$$\\frac{\\partial L}{\\partial \\theta_0} \\big[L(\\theta_0, \\theta_1) \\big] \n",
        "=\\frac{1}{3}\\big[\\color{green}{\\frac{\\partial L}{\\partial \\theta_0} \n",
        "\\big[(\\theta_0 x_1 + \\theta_1 - y_1)^2\\big]}\n",
        "+ \\frac{\\partial L}{\\partial \\theta_0} \\big[(\\theta_0 x_2 + \\theta_1-y_2)^2\\big] \n",
        "+ \\frac{\\partial L}{\\partial \\theta_0} \\big[(\\theta_0 x_3 + \\theta_1-y_3)^2\\big] )$$\n",
        "\n",
        "</br>\n",
        "\n",
        "Inspecting just one of these functions and taking the partial derivative with respect to $\\theta_0$ gives us:\n",
        "\n",
        "</br>\n",
        "\n",
        "#### $$\\color{green}{ \\frac{\\partial L}{\\partial \\theta_0} \\big[(\\theta_0 x_1 + \\theta_1-y_1)^2\\big] }$$\n",
        "\n",
        "</br>\n",
        "\n",
        "</br>\n",
        "$$\\text{Chain rule}$$ \n",
        "\n",
        "#### $$=\\color{red}{2}(\\theta_0 x_1 + \\theta_1-y_1)^{\\color{red}{1}} \\cdot \\frac{\\partial L}{\\partial \\theta_0} \\big[ \\theta_0 x_1 + \\theta_1-y_1] $$\n",
        "\n",
        "</br>\n",
        "$$\\because y_1 \\text{ & } x_1 \\text{ are constants, } \\text{treating all other variables as constants}$$\n",
        "\n",
        "#### $$=2(\\theta_0 x_1 - y_1) \\cdot \\big[\\color{red}{1} x_1 - \\color{red}{0} - \\color{red}{0}\\big]$$ \n",
        "</br>\n",
        "$$\\text{Simplifying}$$ \n",
        "\n",
        "#### $$=2\\color{red}{x_1}(\\theta_0 x_1 + \\theta_1-y_1)$$\n",
        "\n",
        "</br>\n",
        "$$\\text{Generalizing for the sum, as all functions in the sum are the same}$$ \n",
        "\n",
        "#### $$=\\color{green}{2x_i(\\theta_0 x_i + \\theta_1-y_i)}$$\n",
        "\n",
        "</br>\n",
        "\n",
        "Therefore we end up with the partial derivative of the MSE with respect to $\\theta_0$ as:\n",
        "\n",
        "$$\\frac{\\partial L}{\\partial \\theta_0}=\\frac{2}{n}\\sum\\limits_{i=1}^{n} x_i(\\theta_0 x_i + \\theta_1-y_i)$$ \n",
        "\n",
        "Preforming the same steps with respect to $\\theta_1$  gives us:\n",
        "\n",
        "$$\\frac{\\partial L}{\\partial \\theta_1}=\\frac{2}{n}\\sum\\limits_{i=1}^{n}(\\theta_0 x_i + \\theta_1-y_i)$$ "
      ]
    },
    {
      "cell_type": "markdown",
      "metadata": {
        "id": "ikge2FcPLAGE",
        "colab_type": "text"
      },
      "source": [
        "With these partial derivates obtained we can now create an incremental update rule that change the values for $\\theta_0$ and $\\theta_1$ based on on their respective partial derivatives. \n",
        "\n",
        "The point of computing these partial derivates is to be able to ask when we have randomly picked a value for $\\theta_0$ or $\\theta_1$, which way do we push these parameters to minimize the MSE.\n",
        "\n",
        "Given that the goal is to move down the output space of the MSE with respect to each of these paramaters we want to create an equation that updates each of these paramaters individually opposite of the direction of the slope.\n",
        "\n",
        "This is, when the slope is positive we know that we are on the right side of a basin, and would like to go backwards (negative). And if the slope is negative that we are on the left side of a basin and would like to go forwards (positive). this means that whatever the polarity our slope is we can negate that polarity.\n",
        "\n",
        "We want to model this update rule in a way that captures our desire to move in tiny steps backwards or forwards towards the bottom of the basin just so we don't step over it by accident, we can do this by specifying a constant $\\alpha$ that will ensure our change in $\\theta_0$ or $\\theta_1$ is not too durastic, even if the slope at the current $\\theta_0$ or $\\theta_1$ is extremely steep (large in either direction). This constant is called the step size, or in machine learning contexts the *learning rate*.\n",
        "\n",
        "We will define these update rules as follows.\n",
        "\n",
        "Where $L$ is the MSE function defined in terms of $\\theta_0$ and $\\theta_1$\n",
        "\n",
        "## $$\\theta_{0}^{i+1}~:=~ \\theta_{0}^{i} - \\alpha \\cdot \\frac{\\partial L}{\\partial \\theta_0^i}$$\n",
        "\n",
        "## $$\\theta_{1}^{i+1}~:=~ \\theta_{1}^{i} - \\alpha \\cdot \\frac{\\partial L}{\\partial \\theta_1^i}$$\n",
        "\n",
        "Let's put this all together shall we?"
      ]
    },
    {
      "cell_type": "markdown",
      "metadata": {
        "id": "MlhHj66diG8N",
        "colab_type": "text"
      },
      "source": [
        "We have our data."
      ]
    },
    {
      "cell_type": "code",
      "metadata": {
        "id": "MVfmkfSAiJZd",
        "colab_type": "code",
        "colab": {
          "base_uri": "https://localhost:8080/",
          "height": 68
        },
        "outputId": "35bc707d-3ae5-4169-caec-163cebeeda7d"
      },
      "source": [
        "data"
      ],
      "execution_count": null,
      "outputs": [
        {
          "output_type": "execute_result",
          "data": {
            "text/plain": [
              "array([[ 1,  8],\n",
              "       [ 2, 14],\n",
              "       [ 3, 20]])"
            ]
          },
          "metadata": {
            "tags": []
          },
          "execution_count": 10
        }
      ]
    },
    {
      "cell_type": "markdown",
      "metadata": {
        "id": "8mh1QGuniPo8",
        "colab_type": "text"
      },
      "source": [
        "We want to seprate the data into their respective inputs and outputs. (We could have easily chosen the other column for $X$ instead and the first one for $y$, it just depends on what you want the function to output)"
      ]
    },
    {
      "cell_type": "code",
      "metadata": {
        "id": "Diojr5tliTce",
        "colab_type": "code",
        "colab": {
          "base_uri": "https://localhost:8080/",
          "height": 51
        },
        "outputId": "43d7e19b-1717-49af-9e4e-4d3534c23fcc"
      },
      "source": [
        "X = data[:, 0]\n",
        "y = data[:, 1]\n",
        "print(\" X:\", X, \"\\n\", \"y:\", y)"
      ],
      "execution_count": null,
      "outputs": [
        {
          "output_type": "stream",
          "text": [
            " X: [1 2 3] \n",
            " y: [ 8 14 20]\n"
          ],
          "name": "stdout"
        }
      ]
    },
    {
      "cell_type": "markdown",
      "metadata": {
        "id": "DcXBfwzkibq6",
        "colab_type": "text"
      },
      "source": [
        "We want to visualize our data in order to get a grasp of what function we should choose to model the data."
      ]
    },
    {
      "cell_type": "code",
      "metadata": {
        "id": "8HmVO4PWiqDK",
        "colab_type": "code",
        "colab": {
          "base_uri": "https://localhost:8080/",
          "height": 265
        },
        "outputId": "86b2b0f5-10a1-4622-a640-360b6870ca80"
      },
      "source": [
        "plt.plot(X,y,\"bo--\");"
      ],
      "execution_count": null,
      "outputs": [
        {
          "output_type": "display_data",
          "data": {
            "image/png": "[encoded data removed]",
            "text/plain": [
              "<Figure size 432x288 with 1 Axes>"
            ]
          },
          "metadata": {
            "tags": [],
            "needs_background": "light"
          }
        }
      ]
    },
    {
      "cell_type": "markdown",
      "metadata": {
        "id": "bH6p4nleiZT9",
        "colab_type": "text"
      },
      "source": [
        "We want to pick a general equation function that we think might reflect this relationship.\n",
        "\n",
        "(we don't usually use $y$ because we pretend like $y$ already exists and we are trying to find it)\n",
        "\n",
        "$\\hat{y}=\\theta_0x_i+\\theta_1$\n",
        "\n",
        "We want to define this function in code with it's paramaters as arguments in order for the algorithm to be able to control them."
      ]
    },
    {
      "cell_type": "code",
      "metadata": {
        "id": "RMo4ieg09BPK",
        "colab_type": "code",
        "colab": {}
      },
      "source": [
        "def y_hat(X, theta_0=0, theta_1=0):\n",
        "  return theta_0*X + theta_1"
      ],
      "execution_count": null,
      "outputs": []
    },
    {
      "cell_type": "markdown",
      "metadata": {
        "id": "-NsVl6QV_Psn",
        "colab_type": "text"
      },
      "source": [
        "You will notice that the input $X$ is described as a matrix with the math notation but is represented as a vector in our code. This is becasue generally we are not modeling such simple relationships with one input and one output. Generally we are modeling relationships with multiple inputs. You will find a multivariable input example in a later article."
      ]
    },
    {
      "cell_type": "markdown",
      "metadata": {
        "id": "_SxVtCTV_bxB",
        "colab_type": "text"
      },
      "source": [
        "We will define our loss function, in this case it is the MSE."
      ]
    },
    {
      "cell_type": "code",
      "metadata": {
        "id": "5EOX7eZM_f6H",
        "colab_type": "code",
        "colab": {}
      },
      "source": [
        "def MSE(y, y_hat):\n",
        "  return np.sum((y_hat-y)**2, axis=0) / len(y)"
      ],
      "execution_count": null,
      "outputs": []
    },
    {
      "cell_type": "code",
      "metadata": {
        "id": "XYPAP7avby1f",
        "colab_type": "code",
        "colab": {
          "base_uri": "https://localhost:8080/",
          "height": 34
        },
        "outputId": "139f1353-7e6d-4beb-dc8d-1fd2da9c9f36"
      },
      "source": [
        "MSE(y, y_hat(X, theta_0=6, theta_1=2))"
      ],
      "execution_count": null,
      "outputs": [
        {
          "output_type": "execute_result",
          "data": {
            "text/plain": [
              "0.0"
            ]
          },
          "metadata": {
            "tags": []
          },
          "execution_count": 15
        }
      ]
    },
    {
      "cell_type": "markdown",
      "metadata": {
        "id": "ilIv4OzRAj43",
        "colab_type": "text"
      },
      "source": [
        "And our partial derivative's for the paramaters $\\theta_0, \\theta_1$. \n",
        "\n",
        "(when the values for these paramaters are correct the slope of the MSE should be zero)\n",
        "\n",
        "So at $\\theta_0=6$ and $\\theta_1=2$ \n",
        "\n",
        "$$\\frac{\\partial L}{\\partial \\theta_0}=0$$\n",
        "\n",
        "\n",
        "$$\\frac{\\partial L}{\\partial \\theta_1}=0$$"
      ]
    },
    {
      "cell_type": "code",
      "metadata": {
        "id": "2UOPUZnvAm2r",
        "colab_type": "code",
        "colab": {
          "base_uri": "https://localhost:8080/",
          "height": 51
        },
        "outputId": "bbdadcfa-a259-4f86-9db6-8868e03fb218"
      },
      "source": [
        "def DL_Dtheta_0(X, y, theta_0, theta_1):\n",
        "  return 2/len(y) * np.sum(X*(theta_0*X + theta_1 - y))\n",
        "\n",
        "def DL_Dtheta_1(X, y, theta_0, theta_1):\n",
        "  return 2/len(y) * np.sum((theta_0*X + theta_1 - y))\n",
        "\n",
        "print(\"DL/DTheta_0 at 6:\", DL_Dtheta_0(X, y, 6.0, 2.0))\n",
        "print(\"DL/DTheta_1 at 2:\", DL_Dtheta_1(X, y, 6.0, 2.0))"
      ],
      "execution_count": null,
      "outputs": [
        {
          "output_type": "stream",
          "text": [
            "DL/DTheta_0: 0.0\n",
            "DL/DTheta_1: 0.0\n"
          ],
          "name": "stdout"
        }
      ]
    },
    {
      "cell_type": "markdown",
      "metadata": {
        "id": "t6Qdq0WU_6_5",
        "colab_type": "text"
      },
      "source": [
        "We will define our incremental update rules within a function called gradient descent and allow the iterations to happen within a loop. This function will be written specifically for the linear example with two paramaters but methods later will include way to generalize this algorithm to any function with any number of paramaters. \n",
        "\n",
        "There is code within this algorithm that is only there to store the outputs of values through the iterations, this allows us to graph the process afterwards is not needed for the algorithm to work."
      ]
    },
    {
      "cell_type": "code",
      "metadata": {
        "id": "YmlJ5DF3AEJO",
        "colab_type": "code",
        "colab": {}
      },
      "source": [
        "def gradient_descent(MSE, X, y, y_hat, max_iter, alpha):\n",
        "  loss = []\n",
        "  iterations = range(max_iter)\n",
        "  theta_0_vals = []\n",
        "  theta_1_vals = []\n",
        "  theta_0 = 0\n",
        "  theta_1 = 0\n",
        "  for i in iterations:\n",
        "    # theta_0 update rule - as seen above\n",
        "    theta_0 = theta_0 - alpha * DL_Dtheta_0(X, y, theta_0, theta_1)\n",
        "    theta_0_vals.append(theta_0)\n",
        "    \n",
        "    # theta_1 update rule - as seen above\n",
        "    theta_1 = theta_1 - alpha * DL_Dtheta_1(X, y, theta_0, theta_1)\n",
        "    theta_1_vals.append(theta_1)\n",
        "\n",
        "    loss.append(MSE(y, y_hat(X, theta_0, theta_1)))\n",
        "  \n",
        "  return loss, iterations, theta_0, theta_1, theta_0_vals, theta_1_vals"
      ],
      "execution_count": null,
      "outputs": []
    },
    {
      "cell_type": "code",
      "metadata": {
        "id": "Zvno66GBF4O-",
        "colab_type": "code",
        "colab": {}
      },
      "source": [
        "loss, iterations, theta_0, theta_1, theta_0_vals, theta_1_vals = gradient_descent(MSE, X, y, y_hat, max_iter=90, alpha=0.3)"
      ],
      "execution_count": null,
      "outputs": []
    },
    {
      "cell_type": "code",
      "metadata": {
        "id": "dsHZNA49GPg2",
        "colab_type": "code",
        "colab": {
          "base_uri": "https://localhost:8080/",
          "height": 295
        },
        "outputId": "beda8634-6be9-4dc6-e9d6-ffa904e6ee61"
      },
      "source": [
        "plt.plot(iterations, loss)\n",
        "plt.xlabel('iteration')\n",
        "plt.ylabel('loss (MSE)')\n",
        "plt.title('Iteration i vs. Loss')\n",
        "plt.xlim(-2, 20);"
      ],
      "execution_count": null,
      "outputs": [
        {
          "output_type": "display_data",
          "data": {
            "image/png": "[encoded data removed]",
            "text/plain": [
              "<Figure size 432x288 with 1 Axes>"
            ]
          },
          "metadata": {
            "tags": [],
            "needs_background": "light"
          }
        }
      ]
    },
    {
      "cell_type": "code",
      "metadata": {
        "id": "NQe1htSLGWXQ",
        "colab_type": "code",
        "colab": {
          "base_uri": "https://localhost:8080/",
          "height": 296
        },
        "outputId": "6e255515-9785-4b7a-d8f7-161593fbbb98"
      },
      "source": [
        "plt.plot(theta_0_vals, loss, \"ro--\")\n",
        "plt.title('Loss vs. Theta_0')\n",
        "plt.xlabel('theta_0')\n",
        "plt.ylabel('loss');"
      ],
      "execution_count": null,
      "outputs": [
        {
          "output_type": "display_data",
          "data": {
            "image/png": "[encoded data removed]",
            "text/plain": [
              "<Figure size 432x288 with 1 Axes>"
            ]
          },
          "metadata": {
            "tags": [],
            "needs_background": "light"
          }
        }
      ]
    },
    {
      "cell_type": "markdown",
      "metadata": {
        "id": "i3XoiNJKHYoK",
        "colab_type": "text"
      },
      "source": [
        "The final values are"
      ]
    },
    {
      "cell_type": "code",
      "metadata": {
        "id": "S4kxXLpyHaiS",
        "colab_type": "code",
        "colab": {
          "base_uri": "https://localhost:8080/",
          "height": 34
        },
        "outputId": "4090dc44-e6be-4723-c55e-d859c1d5c361"
      },
      "source": [
        "theta_0, theta_1"
      ],
      "execution_count": null,
      "outputs": [
        {
          "output_type": "execute_result",
          "data": {
            "text/plain": [
              "(6.000014873049379, 1.9999662234226112)"
            ]
          },
          "metadata": {
            "tags": []
          },
          "execution_count": 21
        }
      ]
    }
  ]
}